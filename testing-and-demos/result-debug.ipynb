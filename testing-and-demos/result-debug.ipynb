{
 "cells": [
  {
   "cell_type": "code",
   "execution_count": null,
   "metadata": {},
   "outputs": [
    {
     "name": "stdout",
     "output_type": "stream",
     "text": [
      "Generating quiz, please wait...\n",
      "Quiz generated successfully!\n",
      "{\n",
      "    \"query\": \"\\nYou are a teacher and need to generate a quiz for your class based on the provided document.\\n\\nThe quiz should contain 5 questions.\\n\\nEach question should have 4 options, out of which only one is correct.\\n\\nFormat the output as a JSON object with the following structure:\\n\\n{\\n    \\\"quiz_id\\\": ,\\n    \\\"title\\\": \\\"\\\",\\n    \\\"desc\\\": \\\"Ml test\\\",\\n    \\\"src_doc\\\": \\\"Uploaded Document\\\",\\n    \\\"questions\\\": [\\n        {\\n            \\\"question_id\\\": 1,\\n            \\\"question\\\": \\\"\\\",\\n            \\\"options\\\": [\\n                {\\\"option_text\\\": \\\"\\\", \\\"is_correct\\\": True},\\n                {\\\"option_text\\\": \\\"\\\", \\\"is_correct\\\": False},\\n                {\\\"option_text\\\": \\\"\\\", \\\"is_correct\\\": False},\\n                {\\\"option_text\\\": \\\"\\\", \\\"is_correct\\\": False}\\n            ]\\n        },\\n        ...\\n    ]\\n}\\n\\nEnsure the questions are relevant to the content of the uploaded document.\\n        \",\n",
      "    \"result\": \"{\\n    \\\"quiz_id\\\": 101,\\n    \\\"title\\\": \\\"Machine Learning Techniques Quiz\\\",\\n    \\\"desc\\\": \\\"ML test\\\",\\n    \\\"src_doc\\\": \\\"Uploaded Document\\\",\\n    \\\"questions\\\": [\\n        {\\n            \\\"question_id\\\": 1,\\n            \\\"question\\\": \\\"What is 'Bag of Words' in the context of machine learning?\\\",\\n            \\\"options\\\": [\\n                {\\\"option_text\\\": \\\"A method to represent text as a set of words, ignoring grammar and word order\\\", \\\"is_correct\\\": True},\\n                {\\\"option_text\\\": \\\"A method to count the words in a text, considering the grammar\\\", \\\"is_correct\\\": False},\\n                {\\\"option_text\\\": \\\"A method of storing words in a data structure\\\", \\\"is_correct\\\": False},\\n                {\\\"option_text\\\": \\\"A technique of assigning weights to words based on their importance\\\", \\\"is_correct\\\": False}\\n            ]\\n        },\\n        {\\n            \\\"question_id\\\": 2,\\n            \\\"question\\\": \\\"What does TF-IDF stand for?\\\",\\n            \\\"options\\\": [\\n                {\\\"option_text\\\": \\\"Term Frequency-Inverse Document Frequency\\\", \\\"is_correct\\\": True},\\n                {\\\"option_text\\\": \\\"Total Frequency-Internal Document Frequency\\\", \\\"is_correct\\\": False},\\n                {\\\"option_text\\\": \\\"Term Factor-Inverse Data Frequency\\\", \\\"is_correct\\\": False},\\n                {\\\"option_text\\\": \\\"Total Factor-Internal Data Frequency\\\", \\\"is_correct\\\": False}\\n            ]\\n        },\\n        {\\n            \\\"question_id\\\": 3,\\n            \\\"question\\\": \\\"What is an example of Text Classification task in NLP?\\\",\\n            \\\"options\\\": [\\n                {\\\"option_text\\\": \\\"Categorizing a movie review as positive or negative\\\", \\\"is_correct\\\": True},\\n                {\\\"option_text\\\": \\\"Translating an English sentence to French\\\", \\\"is_correct\\\": False},\\n                {\\\"option_text\\\": \\\"Summarizing a long news article into a few sentences\\\", \\\"is_correct\\\": False},\\n                {\\\"option_text\\\": \\\"Counting the frequency of words in a document\\\", \\\"is_correct\\\": False}\\n            ]\\n        },\\n        {\\n            \\\"question_id\\\": 4,\\n            \\\"question\\\": \\\"How can missing data be handled in machine learning models?\\\",\\n            \\\"options\\\": [\\n                {\\\"option_text\\\": \\\"Through Imputation or Dropping the data points\\\", \\\"is_correct\\\": True},\\n                {\\\"option_text\\\": \\\"By ignoring the missing data\\\", \\\"is_correct\\\": False},\\n                {\\\"option_text\\\": \\\"By replacing the missing data with random values\\\", \\\"is_correct\\\": False},\\n                {\\\"option_text\\\": \\\"By assigning a fixed value to all missing data\\\", \\\"is_correct\\\": False}\\n            ]\\n        },\\n        {\\n            \\\"question_id\\\": 5,\\n            \\\"question\\\": \\\"What are outliers in the context of machine learning?\\\",\\n            \\\"options\\\": [\\n                {\\\"option_text\\\": \\\"Extreme values that are very different from the rest of the data\\\", \\\"is_correct\\\": True},\\n                {\\\"option_text\\\": \\\"The most common values in the data\\\", \\\"is_correct\\\": False},\\n                {\\\"option_text\\\": \\\"The average values in the data\\\", \\\"is_correct\\\": False},\\n                {\\\"option_text\\\": \\\"The missing values in the data\\\", \\\"is_correct\\\": False}\\n            ]\\n        }\\n    ]\\n}\"\n",
      "}\n",
      "An error occurred: 'dict' object has no attribute 'result'\n"
     ]
    }
   ],
   "source": [
    "import os\n",
    "import tempfile\n",
    "import json\n",
    "from dotenv import load_dotenv\n",
    "from langchain.chat_models import ChatOpenAI\n",
    "from langchain.text_splitter import RecursiveCharacterTextSplitter\n",
    "from langchain.vectorstores import FAISS\n",
    "from langchain.document_loaders import PyPDFLoader\n",
    "from langchain.chains import RetrievalQA\n",
    "from pydantic import BaseModel, ValidationError\n",
    "from typing import List\n",
    "from langchain.output_parsers import PydanticOutputParser\n",
    "from langchain_core.prompts import PromptTemplate\n",
    "from langchain.embeddings.openai import OpenAIEmbeddings\n",
    "\n",
    "# Load environment variables\n",
    "load_dotenv()\n",
    "\n",
    "# Initialize LLM\n",
    "llm = ChatOpenAI(model=\"gpt-4\", api_key=os.getenv(\"OPENAI_API_KEY\"))\n",
    "embeddings = OpenAIEmbeddings()\n",
    "\n",
    "# Validation Models\n",
    "class OptionModel(BaseModel):\n",
    "    option_text: str\n",
    "    is_correct: bool\n",
    "\n",
    "class QuestionModel(BaseModel):\n",
    "    question_id: int\n",
    "    question_text: str\n",
    "    options: List[OptionModel]\n",
    "\n",
    "class QuizModel(BaseModel):\n",
    "    quiz_id: int\n",
    "    title: str\n",
    "    description: str\n",
    "    source_document: str\n",
    "    questions: List[QuestionModel]\n",
    "\n",
    "def validate_quiz_response(response: dict) -> int:\n",
    "    try:\n",
    "        quiz = QuizModel(**response)\n",
    "        print(\"Validation successful!\")\n",
    "        return 0\n",
    "    except ValidationError as e:\n",
    "        print(\"Validation error:\", e.json())\n",
    "        return 1\n",
    "\n",
    "def format_docs(docs):\n",
    "    return \"\\n\\n\".join(doc.page_content for doc in docs)\n",
    "\n"
   ]
  },
  {
   "cell_type": "code",
   "execution_count": 25,
   "metadata": {},
   "outputs": [
    {
     "name": "stdout",
     "output_type": "stream",
     "text": [
      "Generating quiz, please wait...\n",
      "Quiz generated successfully!\n",
      "{\n",
      "    \"query\": \"\\nYou are a teacher and need to generate a quiz for your class based on the provided document.\\n\\nThe quiz should contain 5 questions.\\n\\nEach question should have 4 options, out of which only one is correct.\\n\\nFormat the output as a JSON object with the following structure:\\n\\n{\\n\\\"quiz_id\\\": ,\\n\\\"title\\\": \\\"\\\",\\n\\\"desc\\\": \\\"Ml\\\",\\n\\\"src_doc\\\": \\\"Uploaded Document\\\",\\n\\\"questions\\\": [\\n    {\\n        \\\"question_id\\\": 1,\\n        \\\"question\\\": \\\"\\\",\\n        \\\"options\\\": [\\n            {\\\"option_text\\\": \\\"\\\", \\\"is_correct\\\": true},\\n            {\\\"option_text\\\": \\\"\\\", \\\"is_correct\\\": false},\\n            {\\\"option_text\\\": \\\"\\\", \\\"is_correct\\\": false},\\n            {\\\"option_text\\\": \\\"\\\", \\\"is_correct\\\": false}\\n        ]\\n    },\\n    ...\\n]\\n}\\n\\nEnsure the questions are relevant to the content of the uploaded document.\\n    \",\n",
      "    \"result\": \"\\n{\\n\\\"quiz_id\\\": 1,\\n\\\"title\\\": \\\"Machine Learning Quiz\\\",\\n\\\"desc\\\": \\\"ML\\\",\\n\\\"src_doc\\\": \\\"Uploaded Document\\\",\\n\\\"questions\\\": [\\n    {\\n        \\\"question_id\\\": 1,\\n        \\\"question\\\": \\\"What is the Bag of Words model in NLP?\\\",\\n        \\\"options\\\": [\\n            {\\\"option_text\\\": \\\"A method to represent text as a set of words, ignoring grammar and word order.\\\", \\\"is_correct\\\": true},\\n            {\\\"option_text\\\": \\\"A method to translate text from one language to another.\\\", \\\"is_correct\\\": false},\\n            {\\\"option_text\\\": \\\"A method to summarize long texts.\\\", \\\"is_correct\\\": false},\\n            {\\\"option_text\\\": \\\"A method to detect sentiment in texts.\\\", \\\"is_correct\\\": false}\\n        ]\\n    },\\n    {\\n        \\\"question_id\\\": 2,\\n        \\\"question\\\": \\\"What does TF-IDF stand for?\\\",\\n        \\\"options\\\": [\\n            {\\\"option_text\\\": \\\"Text Frequency-Inverse Document Frequency\\\", \\\"is_correct\\\": false},\\n            {\\\"option_text\\\": \\\"Term Frequency-Inverse Document Frequency\\\", \\\"is_correct\\\": true},\\n            {\\\"option_text\\\": \\\"Term Factor-Inverse Document Frequency\\\", \\\"is_correct\\\": false},\\n            {\\\"option_text\\\": \\\"Text Factor-Inverse Document Frequency\\\", \\\"is_correct\\\": false}\\n        ]\\n    },\\n    {\\n        \\\"question_id\\\": 3,\\n        \\\"question\\\": \\\"What is one example of a task that can be performed using NLP?\\\",\\n        \\\"options\\\": [\\n            {\\\"option_text\\\": \\\"Translating an English sentence to French\\\", \\\"is_correct\\\": true},\\n            {\\\"option_text\\\": \\\"Calculating the Eigenvalues of a matrix\\\", \\\"is_correct\\\": false},\\n            {\\\"option_text\\\": \\\"Predicting the weather\\\", \\\"is_correct\\\": false},\\n            {\\\"option_text\\\": \\\"Classifying images\\\", \\\"is_correct\\\": false}\\n        ]\\n    },\\n    {\\n        \\\"question_id\\\": 4,\\n        \\\"question\\\": \\\"What is deep learning?\\\",\\n        \\\"options\\\": [\\n            {\\\"option_text\\\": \\\"A subset of machine learning that uses many layers of neural networks\\\", \\\"is_correct\\\": true},\\n            {\\\"option_text\\\": \\\"A method to clean the data\\\", \\\"is_correct\\\": false},\\n            {\\\"option_text\\\": \\\"A type of probability distribution\\\", \\\"is_correct\\\": false},\\n            {\\\"option_text\\\": \\\"A type of descriptive statistics\\\", \\\"is_correct\\\": false}\\n        ]\\n    },\\n    {\\n        \\\"question_id\\\": 5,\\n        \\\"question\\\": \\\"Why is data preprocessing necessary?\\\",\\n        \\\"options\\\": [\\n            {\\\"option_text\\\": \\\"Because real-world data is often incomplete, noisy, or inconsistent\\\", \\\"is_correct\\\": true},\\n            {\\\"option_text\\\": \\\"Because it enhances the quality of the images\\\", \\\"is_correct\\\": false},\\n            {\\\"option_text\\\": \\\"Because it translates texts\\\", \\\"is_correct\\\": false},\\n            {\\\"option_text\\\": \\\"Because it reduces the size of the data\\\", \\\"is_correct\\\": false}\\n        ]\\n    }\\n]\\n}\"\n",
      "}\n",
      "An error occurred: __main__.QuizModel() argument after ** must be a mapping, not str\n"
     ]
    }
   ],
   "source": [
    "num_questions = int(input(\"Enter number of questions (1-10): \"))\n",
    "test_description = input(\"Enter a short description of the test: \")\n",
    "difficulty = int(input(\"Enter difficulty level (1-3): \"))\n",
    "file_path = r'C:\\Users\\Advait Shinde\\AI-SmartClassroom\\Machine Learning Roadmap.pdf'\n",
    "\n",
    "if not os.path.exists(file_path):\n",
    "    print(\"File not found!\")\n",
    "\n",
    "\n",
    "try:\n",
    "    # Load and split document\n",
    "    loader = PyPDFLoader(file_path)\n",
    "    docs = loader.load()\n",
    "\n",
    "    if not docs:\n",
    "        print(\"Failed to extract content from the document.\")\n",
    "        \n",
    "\n",
    "    text_splitter = RecursiveCharacterTextSplitter(chunk_size=1000, chunk_overlap=200)\n",
    "    splits = text_splitter.split_documents(docs)\n",
    "\n",
    "    # Vector Store\n",
    "    vector_store = FAISS.from_documents(splits, embeddings)\n",
    "    retriever = vector_store.as_retriever()\n",
    "\n",
    "    parser = PydanticOutputParser(pydantic_object=QuizModel)\n",
    "\n",
    "    prompt = f\"\"\"\n",
    "You are a teacher and need to generate a quiz for your class based on the provided document.\n",
    "\n",
    "The quiz should contain {num_questions} questions.\n",
    "\n",
    "Each question should have 4 options, out of which only one is correct.\n",
    "\n",
    "Format the output as a JSON object with the following structure:\n",
    "\n",
    "{{\n",
    "\"quiz_id\": ,\n",
    "\"title\": \"\",\n",
    "\"desc\": \"{test_description}\",\n",
    "\"src_doc\": \"Uploaded Document\",\n",
    "\"questions\": [\n",
    "    {{\n",
    "        \"question_id\": 1,\n",
    "        \"question\": \"\",\n",
    "        \"options\": [\n",
    "            {{\"option_text\": \"\", \"is_correct\": true}},\n",
    "            {{\"option_text\": \"\", \"is_correct\": false}},\n",
    "            {{\"option_text\": \"\", \"is_correct\": false}},\n",
    "            {{\"option_text\": \"\", \"is_correct\": false}}\n",
    "        ]\n",
    "    }},\n",
    "    ...\n",
    "]\n",
    "}}\n",
    "\n",
    "Ensure the questions are relevant to the content of the uploaded document.\n",
    "    \"\"\"\n",
    "    \n",
    "    rag_chain = RetrievalQA.from_chain_type(llm=llm, chain_type=\"stuff\", retriever=retriever)\n",
    "\n",
    "    print(\"Generating quiz, please wait...\")\n",
    "    result = rag_chain.invoke(prompt)\n",
    "\n",
    "    if result:\n",
    "        print(\"Quiz generated successfully!\")\n",
    "        print(json.dumps(result, indent=4))\n",
    "\n",
    "        if validate_quiz_response(result['result']):\n",
    "            print(\"Validation failed. Check the quiz structure.\")\n",
    "    else:\n",
    "        print(\"Failed to generate quiz. LLM returned an empty response.\")\n",
    "except Exception as e:\n",
    "    print(f\"An error occurred: {str(e)}\")"
   ]
  },
  {
   "cell_type": "code",
   "execution_count": 26,
   "metadata": {},
   "outputs": [
    {
     "data": {
      "text/plain": [
       "{'query': '\\nYou are a teacher and need to generate a quiz for your class based on the provided document.\\n\\nThe quiz should contain 5 questions.\\n\\nEach question should have 4 options, out of which only one is correct.\\n\\nFormat the output as a JSON object with the following structure:\\n\\n{\\n\"quiz_id\": ,\\n\"title\": \"\",\\n\"desc\": \"Ml\",\\n\"src_doc\": \"Uploaded Document\",\\n\"questions\": [\\n    {\\n        \"question_id\": 1,\\n        \"question\": \"\",\\n        \"options\": [\\n            {\"option_text\": \"\", \"is_correct\": true},\\n            {\"option_text\": \"\", \"is_correct\": false},\\n            {\"option_text\": \"\", \"is_correct\": false},\\n            {\"option_text\": \"\", \"is_correct\": false}\\n        ]\\n    },\\n    ...\\n]\\n}\\n\\nEnsure the questions are relevant to the content of the uploaded document.\\n    ',\n",
       " 'result': '\\n{\\n\"quiz_id\": 1,\\n\"title\": \"Machine Learning Quiz\",\\n\"desc\": \"ML\",\\n\"src_doc\": \"Uploaded Document\",\\n\"questions\": [\\n    {\\n        \"question_id\": 1,\\n        \"question\": \"What is the Bag of Words model in NLP?\",\\n        \"options\": [\\n            {\"option_text\": \"A method to represent text as a set of words, ignoring grammar and word order.\", \"is_correct\": true},\\n            {\"option_text\": \"A method to translate text from one language to another.\", \"is_correct\": false},\\n            {\"option_text\": \"A method to summarize long texts.\", \"is_correct\": false},\\n            {\"option_text\": \"A method to detect sentiment in texts.\", \"is_correct\": false}\\n        ]\\n    },\\n    {\\n        \"question_id\": 2,\\n        \"question\": \"What does TF-IDF stand for?\",\\n        \"options\": [\\n            {\"option_text\": \"Text Frequency-Inverse Document Frequency\", \"is_correct\": false},\\n            {\"option_text\": \"Term Frequency-Inverse Document Frequency\", \"is_correct\": true},\\n            {\"option_text\": \"Term Factor-Inverse Document Frequency\", \"is_correct\": false},\\n            {\"option_text\": \"Text Factor-Inverse Document Frequency\", \"is_correct\": false}\\n        ]\\n    },\\n    {\\n        \"question_id\": 3,\\n        \"question\": \"What is one example of a task that can be performed using NLP?\",\\n        \"options\": [\\n            {\"option_text\": \"Translating an English sentence to French\", \"is_correct\": true},\\n            {\"option_text\": \"Calculating the Eigenvalues of a matrix\", \"is_correct\": false},\\n            {\"option_text\": \"Predicting the weather\", \"is_correct\": false},\\n            {\"option_text\": \"Classifying images\", \"is_correct\": false}\\n        ]\\n    },\\n    {\\n        \"question_id\": 4,\\n        \"question\": \"What is deep learning?\",\\n        \"options\": [\\n            {\"option_text\": \"A subset of machine learning that uses many layers of neural networks\", \"is_correct\": true},\\n            {\"option_text\": \"A method to clean the data\", \"is_correct\": false},\\n            {\"option_text\": \"A type of probability distribution\", \"is_correct\": false},\\n            {\"option_text\": \"A type of descriptive statistics\", \"is_correct\": false}\\n        ]\\n    },\\n    {\\n        \"question_id\": 5,\\n        \"question\": \"Why is data preprocessing necessary?\",\\n        \"options\": [\\n            {\"option_text\": \"Because real-world data is often incomplete, noisy, or inconsistent\", \"is_correct\": true},\\n            {\"option_text\": \"Because it enhances the quality of the images\", \"is_correct\": false},\\n            {\"option_text\": \"Because it translates texts\", \"is_correct\": false},\\n            {\"option_text\": \"Because it reduces the size of the data\", \"is_correct\": false}\\n        ]\\n    }\\n]\\n}'}"
      ]
     },
     "execution_count": 26,
     "metadata": {},
     "output_type": "execute_result"
    }
   ],
   "source": [
    "result"
   ]
  },
  {
   "cell_type": "code",
   "execution_count": 28,
   "metadata": {},
   "outputs": [
    {
     "data": {
      "text/plain": [
       "{'quiz_id': 1,\n",
       " 'title': 'Machine Learning Quiz',\n",
       " 'desc': 'ML',\n",
       " 'src_doc': 'Uploaded Document',\n",
       " 'questions': [{'question_id': 1,\n",
       "   'question': 'What is the Bag of Words model in NLP?',\n",
       "   'options': [{'option_text': 'A method to represent text as a set of words, ignoring grammar and word order.',\n",
       "     'is_correct': True},\n",
       "    {'option_text': 'A method to translate text from one language to another.',\n",
       "     'is_correct': False},\n",
       "    {'option_text': 'A method to summarize long texts.', 'is_correct': False},\n",
       "    {'option_text': 'A method to detect sentiment in texts.',\n",
       "     'is_correct': False}]},\n",
       "  {'question_id': 2,\n",
       "   'question': 'What does TF-IDF stand for?',\n",
       "   'options': [{'option_text': 'Text Frequency-Inverse Document Frequency',\n",
       "     'is_correct': False},\n",
       "    {'option_text': 'Term Frequency-Inverse Document Frequency',\n",
       "     'is_correct': True},\n",
       "    {'option_text': 'Term Factor-Inverse Document Frequency',\n",
       "     'is_correct': False},\n",
       "    {'option_text': 'Text Factor-Inverse Document Frequency',\n",
       "     'is_correct': False}]},\n",
       "  {'question_id': 3,\n",
       "   'question': 'What is one example of a task that can be performed using NLP?',\n",
       "   'options': [{'option_text': 'Translating an English sentence to French',\n",
       "     'is_correct': True},\n",
       "    {'option_text': 'Calculating the Eigenvalues of a matrix',\n",
       "     'is_correct': False},\n",
       "    {'option_text': 'Predicting the weather', 'is_correct': False},\n",
       "    {'option_text': 'Classifying images', 'is_correct': False}]},\n",
       "  {'question_id': 4,\n",
       "   'question': 'What is deep learning?',\n",
       "   'options': [{'option_text': 'A subset of machine learning that uses many layers of neural networks',\n",
       "     'is_correct': True},\n",
       "    {'option_text': 'A method to clean the data', 'is_correct': False},\n",
       "    {'option_text': 'A type of probability distribution', 'is_correct': False},\n",
       "    {'option_text': 'A type of descriptive statistics', 'is_correct': False}]},\n",
       "  {'question_id': 5,\n",
       "   'question': 'Why is data preprocessing necessary?',\n",
       "   'options': [{'option_text': 'Because real-world data is often incomplete, noisy, or inconsistent',\n",
       "     'is_correct': True},\n",
       "    {'option_text': 'Because it enhances the quality of the images',\n",
       "     'is_correct': False},\n",
       "    {'option_text': 'Because it translates texts', 'is_correct': False},\n",
       "    {'option_text': 'Because it reduces the size of the data',\n",
       "     'is_correct': False}]}]}"
      ]
     },
     "execution_count": 28,
     "metadata": {},
     "output_type": "execute_result"
    }
   ],
   "source": [
    "json_response = result['result'].strip()\n",
    "parsed_result = json.loads(json_response)\n",
    "parsed_result"
   ]
  },
  {
   "cell_type": "code",
   "execution_count": 29,
   "metadata": {},
   "outputs": [
    {
     "data": {
      "text/plain": [
       "'{\\n\"quiz_id\": 1,\\n\"title\": \"Machine Learning Quiz\",\\n\"desc\": \"ML\",\\n\"src_doc\": \"Uploaded Document\",\\n\"questions\": [\\n    {\\n        \"question_id\": 1,\\n        \"question\": \"What is the Bag of Words model in NLP?\",\\n        \"options\": [\\n            {\"option_text\": \"A method to represent text as a set of words, ignoring grammar and word order.\", \"is_correct\": true},\\n            {\"option_text\": \"A method to translate text from one language to another.\", \"is_correct\": false},\\n            {\"option_text\": \"A method to summarize long texts.\", \"is_correct\": false},\\n            {\"option_text\": \"A method to detect sentiment in texts.\", \"is_correct\": false}\\n        ]\\n    },\\n    {\\n        \"question_id\": 2,\\n        \"question\": \"What does TF-IDF stand for?\",\\n        \"options\": [\\n            {\"option_text\": \"Text Frequency-Inverse Document Frequency\", \"is_correct\": false},\\n            {\"option_text\": \"Term Frequency-Inverse Document Frequency\", \"is_correct\": true},\\n            {\"option_text\": \"Term Factor-Inverse Document Frequency\", \"is_correct\": false},\\n            {\"option_text\": \"Text Factor-Inverse Document Frequency\", \"is_correct\": false}\\n        ]\\n    },\\n    {\\n        \"question_id\": 3,\\n        \"question\": \"What is one example of a task that can be performed using NLP?\",\\n        \"options\": [\\n            {\"option_text\": \"Translating an English sentence to French\", \"is_correct\": true},\\n            {\"option_text\": \"Calculating the Eigenvalues of a matrix\", \"is_correct\": false},\\n            {\"option_text\": \"Predicting the weather\", \"is_correct\": false},\\n            {\"option_text\": \"Classifying images\", \"is_correct\": false}\\n        ]\\n    },\\n    {\\n        \"question_id\": 4,\\n        \"question\": \"What is deep learning?\",\\n        \"options\": [\\n            {\"option_text\": \"A subset of machine learning that uses many layers of neural networks\", \"is_correct\": true},\\n            {\"option_text\": \"A method to clean the data\", \"is_correct\": false},\\n            {\"option_text\": \"A type of probability distribution\", \"is_correct\": false},\\n            {\"option_text\": \"A type of descriptive statistics\", \"is_correct\": false}\\n        ]\\n    },\\n    {\\n        \"question_id\": 5,\\n        \"question\": \"Why is data preprocessing necessary?\",\\n        \"options\": [\\n            {\"option_text\": \"Because real-world data is often incomplete, noisy, or inconsistent\", \"is_correct\": true},\\n            {\"option_text\": \"Because it enhances the quality of the images\", \"is_correct\": false},\\n            {\"option_text\": \"Because it translates texts\", \"is_correct\": false},\\n            {\"option_text\": \"Because it reduces the size of the data\", \"is_correct\": false}\\n        ]\\n    }\\n]\\n}'"
      ]
     },
     "execution_count": 29,
     "metadata": {},
     "output_type": "execute_result"
    }
   ],
   "source": [
    "result['result'].strip()"
   ]
  },
  {
   "cell_type": "code",
   "execution_count": 30,
   "metadata": {},
   "outputs": [
    {
     "name": "stdout",
     "output_type": "stream",
     "text": [
      "{\n",
      "\"quiz_id\": 1,\n",
      "\"title\": \"Machine Learning Quiz\",\n",
      "\"desc\": \"ML\",\n",
      "\"src_doc\": \"Uploaded Document\",\n",
      "\"questions\": [\n",
      "    {\n",
      "        \"question_id\": 1,\n",
      "        \"question\": \"What is the Bag of Words model in NLP?\",\n",
      "        \"options\": [\n",
      "            {\"option_text\": \"A method to represent text as a set of words, ignoring grammar and word order.\", \"is_correct\": true},\n",
      "            {\"option_text\": \"A method to translate text from one language to another.\", \"is_correct\": false},\n",
      "            {\"option_text\": \"A method to summarize long texts.\", \"is_correct\": false},\n",
      "            {\"option_text\": \"A method to detect sentiment in texts.\", \"is_correct\": false}\n",
      "        ]\n",
      "    },\n",
      "    {\n",
      "        \"question_id\": 2,\n",
      "        \"question\": \"What does TF-IDF stand for?\",\n",
      "        \"options\": [\n",
      "            {\"option_text\": \"Text Frequency-Inverse Document Frequency\", \"is_correct\": false},\n",
      "            {\"option_text\": \"Term Frequency-Inverse Document Frequency\", \"is_correct\": true},\n",
      "            {\"option_text\": \"Term Factor-Inverse Document Frequency\", \"is_correct\": false},\n",
      "            {\"option_text\": \"Text Factor-Inverse Document Frequency\", \"is_correct\": false}\n",
      "        ]\n",
      "    },\n",
      "    {\n",
      "        \"question_id\": 3,\n",
      "        \"question\": \"What is one example of a task that can be performed using NLP?\",\n",
      "        \"options\": [\n",
      "            {\"option_text\": \"Translating an English sentence to French\", \"is_correct\": true},\n",
      "            {\"option_text\": \"Calculating the Eigenvalues of a matrix\", \"is_correct\": false},\n",
      "            {\"option_text\": \"Predicting the weather\", \"is_correct\": false},\n",
      "            {\"option_text\": \"Classifying images\", \"is_correct\": false}\n",
      "        ]\n",
      "    },\n",
      "    {\n",
      "        \"question_id\": 4,\n",
      "        \"question\": \"What is deep learning?\",\n",
      "        \"options\": [\n",
      "            {\"option_text\": \"A subset of machine learning that uses many layers of neural networks\", \"is_correct\": true},\n",
      "            {\"option_text\": \"A method to clean the data\", \"is_correct\": false},\n",
      "            {\"option_text\": \"A type of probability distribution\", \"is_correct\": false},\n",
      "            {\"option_text\": \"A type of descriptive statistics\", \"is_correct\": false}\n",
      "        ]\n",
      "    },\n",
      "    {\n",
      "        \"question_id\": 5,\n",
      "        \"question\": \"Why is data preprocessing necessary?\",\n",
      "        \"options\": [\n",
      "            {\"option_text\": \"Because real-world data is often incomplete, noisy, or inconsistent\", \"is_correct\": true},\n",
      "            {\"option_text\": \"Because it enhances the quality of the images\", \"is_correct\": false},\n",
      "            {\"option_text\": \"Because it translates texts\", \"is_correct\": false},\n",
      "            {\"option_text\": \"Because it reduces the size of the data\", \"is_correct\": false}\n",
      "        ]\n",
      "    }\n",
      "]\n",
      "}\n"
     ]
    }
   ],
   "source": [
    "print(json_response)"
   ]
  },
  {
   "cell_type": "code",
   "execution_count": 31,
   "metadata": {},
   "outputs": [
    {
     "data": {
      "text/plain": [
       "'{\\n\"quiz_id\": 1,\\n\"title\": \"Machine Learning Quiz\",\\n\"desc\": \"ML\",\\n\"src_doc\": \"Uploaded Document\",\\n\"questions\": [\\n    {\\n        \"question_id\": 1,\\n        \"question\": \"What is the Bag of Words model in NLP?\",\\n        \"options\": [\\n            {\"option_text\": \"A method to represent text as a set of words, ignoring grammar and word order.\", \"is_correct\": true},\\n            {\"option_text\": \"A method to translate text from one language to another.\", \"is_correct\": false},\\n            {\"option_text\": \"A method to summarize long texts.\", \"is_correct\": false},\\n            {\"option_text\": \"A method to detect sentiment in texts.\", \"is_correct\": false}\\n        ]\\n    },\\n    {\\n        \"question_id\": 2,\\n        \"question\": \"What does TF-IDF stand for?\",\\n        \"options\": [\\n            {\"option_text\": \"Text Frequency-Inverse Document Frequency\", \"is_correct\": false},\\n            {\"option_text\": \"Term Frequency-Inverse Document Frequency\", \"is_correct\": true},\\n            {\"option_text\": \"Term Factor-Inverse Document Frequency\", \"is_correct\": false},\\n            {\"option_text\": \"Text Factor-Inverse Document Frequency\", \"is_correct\": false}\\n        ]\\n    },\\n    {\\n        \"question_id\": 3,\\n        \"question\": \"What is one example of a task that can be performed using NLP?\",\\n        \"options\": [\\n            {\"option_text\": \"Translating an English sentence to French\", \"is_correct\": true},\\n            {\"option_text\": \"Calculating the Eigenvalues of a matrix\", \"is_correct\": false},\\n            {\"option_text\": \"Predicting the weather\", \"is_correct\": false},\\n            {\"option_text\": \"Classifying images\", \"is_correct\": false}\\n        ]\\n    },\\n    {\\n        \"question_id\": 4,\\n        \"question\": \"What is deep learning?\",\\n        \"options\": [\\n            {\"option_text\": \"A subset of machine learning that uses many layers of neural networks\", \"is_correct\": true},\\n            {\"option_text\": \"A method to clean the data\", \"is_correct\": false},\\n            {\"option_text\": \"A type of probability distribution\", \"is_correct\": false},\\n            {\"option_text\": \"A type of descriptive statistics\", \"is_correct\": false}\\n        ]\\n    },\\n    {\\n        \"question_id\": 5,\\n        \"question\": \"Why is data preprocessing necessary?\",\\n        \"options\": [\\n            {\"option_text\": \"Because real-world data is often incomplete, noisy, or inconsistent\", \"is_correct\": true},\\n            {\"option_text\": \"Because it enhances the quality of the images\", \"is_correct\": false},\\n            {\"option_text\": \"Because it translates texts\", \"is_correct\": false},\\n            {\"option_text\": \"Because it reduces the size of the data\", \"is_correct\": false}\\n        ]\\n    }\\n]\\n}'"
      ]
     },
     "execution_count": 31,
     "metadata": {},
     "output_type": "execute_result"
    }
   ],
   "source": [
    "json_response\n",
    "\n",
    "data_json = json_response\n",
    "\n",
    "data_json"
   ]
  },
  {
   "cell_type": "code",
   "execution_count": 32,
   "metadata": {},
   "outputs": [
    {
     "name": "stdout",
     "output_type": "stream",
     "text": [
      "<class 'str'>\n"
     ]
    }
   ],
   "source": [
    "print(type(json_response))"
   ]
  },
  {
   "cell_type": "code",
   "execution_count": null,
   "metadata": {},
   "outputs": [],
   "source": []
  }
 ],
 "metadata": {
  "kernelspec": {
   "display_name": "Python 3",
   "language": "python",
   "name": "python3"
  },
  "language_info": {
   "codemirror_mode": {
    "name": "ipython",
    "version": 3
   },
   "file_extension": ".py",
   "mimetype": "text/x-python",
   "name": "python",
   "nbconvert_exporter": "python",
   "pygments_lexer": "ipython3",
   "version": "3.10.9"
  }
 },
 "nbformat": 4,
 "nbformat_minor": 2
}
